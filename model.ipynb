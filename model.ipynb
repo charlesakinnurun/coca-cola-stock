{
 "cells": [
  {
   "cell_type": "markdown",
   "id": "bdf554b6",
   "metadata": {},
   "source": [
    "Import the neccessary libraries"
   ]
  },
  {
   "cell_type": "code",
   "execution_count": 3,
   "id": "7488734e",
   "metadata": {},
   "outputs": [],
   "source": [
    "import numpy as np\n",
    "import pandas as pd\n",
    "import yfinance as yf\n",
    "from sklearn.linear_model import LinearRegression,Lasso,Ridge\n",
    "from sklearn.tree import DecisionTreeRegressor\n",
    "from sklearn.ensemble import RandomForestRegressor\n",
    "from sklearn.svm import SVR\n",
    "from sklearn.model_selection import train_test_split,RandomizedSearchCV\n",
    "from sklearn.preprocessing import StandardScaler\n",
    "from sklearn.metrics import mean_squared_error,r2_score\n",
    "import matplotlib.pyplot as plt"
   ]
  },
  {
   "cell_type": "markdown",
   "metadata": {},
   "source": [
    "Set plotting style for better visualization"
   ]
  },
  {
   "cell_type": "code",
   "execution_count": 4,
   "id": "4a523d1f",
   "metadata": {},
   "outputs": [],
   "source": [
    "plt.style.use(\"seaborn-v0_8-whitegrid\")"
   ]
  },
  {
   "cell_type": "markdown",
   "id": "4ff93f9e",
   "metadata": {},
   "source": [
    "Configuration and Constants"
   ]
  },
  {
   "cell_type": "code",
   "execution_count": 6,
   "id": "3a37bcf6",
   "metadata": {},
   "outputs": [],
   "source": [
    "TICKER = \"KO\" # Coca-cola company stock ticker\n",
    "START_DATE = \"2010-01-01\" # Starting date for data visualization\n",
    "END_DATE = pd.to_datetime(\"today\").strftime('%Y-%m-%d') # Today's date as end date\n",
    "PREDICTION_DAYS = 1 # We aim to predict the stock price 1 day into a future"
   ]
  },
  {
   "cell_type": "markdown",
   "id": "0bf55a85",
   "metadata": {},
   "source": [
    "Data Loading and Acquistion"
   ]
  },
  {
   "cell_type": "code",
   "execution_count": 8,
   "id": "ceb18dd6",
   "metadata": {},
   "outputs": [
    {
     "name": "stdout",
     "output_type": "stream",
     "text": [
      "Fetching KO stock data from 2010-01-01 to 2025-10-20\n"
     ]
    },
    {
     "name": "stderr",
     "output_type": "stream",
     "text": [
      "C:\\Users\\Dell\\AppData\\Local\\Temp\\ipykernel_12104\\4121722960.py:5: FutureWarning: YF.download() has changed argument auto_adjust default to True\n",
      "  df = yf.download(TICKER,start=START_DATE,end=END_DATE)\n",
      "[*********************100%***********************]  1 of 1 completed\n"
     ]
    }
   ],
   "source": [
    "print(f\"Fetching {TICKER} stock data from {START_DATE} to {END_DATE}\")\n",
    "\n",
    "# Use yfinane to download historical stock data\n",
    "try:\n",
    "    df = yf.download(TICKER,start=START_DATE,end=END_DATE)\n",
    "except Exception as e:\n",
    "    print(f\"Error fetching data: {e}\")\n",
    "    exit()"
   ]
  },
  {
   "cell_type": "code",
   "execution_count": 13,
   "id": "eb92135b",
   "metadata": {},
   "outputs": [],
   "source": [
    "# Check if data was successfully loaded and is not empty\n",
    "if df.empty:\n",
    "    print(f\"No data retrived for {TICKER}. Exiting...\")\n",
    "    exit()"
   ]
  },
  {
   "cell_type": "code",
   "execution_count": 14,
   "id": "af0de15a",
   "metadata": {},
   "outputs": [],
   "source": [
    "df.reset_index(inplace=True)"
   ]
  },
  {
   "cell_type": "code",
   "execution_count": 16,
   "id": "b382ccfd",
   "metadata": {},
   "outputs": [
    {
     "name": "stdout",
     "output_type": "stream",
     "text": [
      "----- Raw Head -----\n"
     ]
    },
    {
     "data": {
      "text/html": [
       "<div>\n",
       "<style scoped>\n",
       "    .dataframe tbody tr th:only-of-type {\n",
       "        vertical-align: middle;\n",
       "    }\n",
       "\n",
       "    .dataframe tbody tr th {\n",
       "        vertical-align: top;\n",
       "    }\n",
       "\n",
       "    .dataframe thead tr th {\n",
       "        text-align: left;\n",
       "    }\n",
       "</style>\n",
       "<table border=\"1\" class=\"dataframe\">\n",
       "  <thead>\n",
       "    <tr>\n",
       "      <th>Price</th>\n",
       "      <th>index</th>\n",
       "      <th>Date</th>\n",
       "      <th>Close</th>\n",
       "      <th>High</th>\n",
       "      <th>Low</th>\n",
       "      <th>Open</th>\n",
       "      <th>Volume</th>\n",
       "    </tr>\n",
       "    <tr>\n",
       "      <th>Ticker</th>\n",
       "      <th></th>\n",
       "      <th></th>\n",
       "      <th>KO</th>\n",
       "      <th>KO</th>\n",
       "      <th>KO</th>\n",
       "      <th>KO</th>\n",
       "      <th>KO</th>\n",
       "    </tr>\n",
       "  </thead>\n",
       "  <tbody>\n",
       "    <tr>\n",
       "      <th>0</th>\n",
       "      <td>0</td>\n",
       "      <td>2010-01-04</td>\n",
       "      <td>17.557863</td>\n",
       "      <td>17.613270</td>\n",
       "      <td>17.514769</td>\n",
       "      <td>17.594801</td>\n",
       "      <td>13870400</td>\n",
       "    </tr>\n",
       "    <tr>\n",
       "      <th>1</th>\n",
       "      <td>1</td>\n",
       "      <td>2010-01-05</td>\n",
       "      <td>17.345472</td>\n",
       "      <td>17.542476</td>\n",
       "      <td>17.280831</td>\n",
       "      <td>17.499381</td>\n",
       "      <td>23172400</td>\n",
       "    </tr>\n",
       "    <tr>\n",
       "      <th>2</th>\n",
       "      <td>2</td>\n",
       "      <td>2010-01-06</td>\n",
       "      <td>17.339315</td>\n",
       "      <td>17.373174</td>\n",
       "      <td>17.231579</td>\n",
       "      <td>17.345471</td>\n",
       "      <td>19264600</td>\n",
       "    </tr>\n",
       "    <tr>\n",
       "      <th>3</th>\n",
       "      <td>3</td>\n",
       "      <td>2010-01-07</td>\n",
       "      <td>17.296221</td>\n",
       "      <td>17.351628</td>\n",
       "      <td>17.160782</td>\n",
       "      <td>17.339316</td>\n",
       "      <td>13234600</td>\n",
       "    </tr>\n",
       "    <tr>\n",
       "      <th>4</th>\n",
       "      <td>4</td>\n",
       "      <td>2010-01-08</td>\n",
       "      <td>16.976097</td>\n",
       "      <td>17.126927</td>\n",
       "      <td>16.852970</td>\n",
       "      <td>17.071520</td>\n",
       "      <td>28712400</td>\n",
       "    </tr>\n",
       "  </tbody>\n",
       "</table>\n",
       "</div>"
      ],
      "text/plain": [
       "Price  index       Date      Close       High        Low       Open    Volume\n",
       "Ticker                          KO         KO         KO         KO        KO\n",
       "0          0 2010-01-04  17.557863  17.613270  17.514769  17.594801  13870400\n",
       "1          1 2010-01-05  17.345472  17.542476  17.280831  17.499381  23172400\n",
       "2          2 2010-01-06  17.339315  17.373174  17.231579  17.345471  19264600\n",
       "3          3 2010-01-07  17.296221  17.351628  17.160782  17.339316  13234600\n",
       "4          4 2010-01-08  16.976097  17.126927  16.852970  17.071520  28712400"
      ]
     },
     "execution_count": 16,
     "metadata": {},
     "output_type": "execute_result"
    }
   ],
   "source": [
    "# Display the first few rows of the raw data\n",
    "print(\"----- Raw Head -----\")\n",
    "df.head()"
   ]
  },
  {
   "cell_type": "code",
   "execution_count": 17,
   "id": "75341a93",
   "metadata": {},
   "outputs": [
    {
     "name": "stdout",
     "output_type": "stream",
     "text": [
      "<class 'pandas.core.frame.DataFrame'>\n",
      "RangeIndex: 3973 entries, 0 to 3972\n",
      "Data columns (total 7 columns):\n",
      " #   Column        Non-Null Count  Dtype         \n",
      "---  ------        --------------  -----         \n",
      " 0   (index, )     3973 non-null   int64         \n",
      " 1   (Date, )      3973 non-null   datetime64[ns]\n",
      " 2   (Close, KO)   3973 non-null   float64       \n",
      " 3   (High, KO)    3973 non-null   float64       \n",
      " 4   (Low, KO)     3973 non-null   float64       \n",
      " 5   (Open, KO)    3973 non-null   float64       \n",
      " 6   (Volume, KO)  3973 non-null   int64         \n",
      "dtypes: datetime64[ns](1), float64(4), int64(2)\n",
      "memory usage: 217.4 KB\n",
      "None\n"
     ]
    }
   ],
   "source": [
    "# Display the data information\n",
    "print(df.info())"
   ]
  },
  {
   "cell_type": "markdown",
   "id": "7ebaef41",
   "metadata": {},
   "source": [
    "Data Preprocessing"
   ]
  },
  {
   "cell_type": "code",
   "execution_count": 18,
   "id": "a08be0b4",
   "metadata": {},
   "outputs": [
    {
     "name": "stdout",
     "output_type": "stream",
     "text": [
      "Missing Values\n",
      "Price   Ticker\n",
      "index             0\n",
      "Date              0\n",
      "Close   KO        0\n",
      "High    KO        0\n",
      "Low     KO        0\n",
      "Open    KO        0\n",
      "Volume  KO        0\n",
      "dtype: int64\n"
     ]
    }
   ],
   "source": [
    "# Check for missing values\n",
    "df_missing = df.isnull().sum()\n",
    "print(\"Missing Values\")\n",
    "print(df_missing)"
   ]
  },
  {
   "cell_type": "code",
   "execution_count": 19,
   "id": "b93cf335",
   "metadata": {},
   "outputs": [
    {
     "name": "stdout",
     "output_type": "stream",
     "text": [
      "Duplicated Rows\n",
      "0\n"
     ]
    }
   ],
   "source": [
    "# Check for duplicated rows\n",
    "df_duplicated = df.duplicated().sum()\n",
    "print(\"Duplicated Rows\")\n",
    "print(df_duplicated)"
   ]
  },
  {
   "cell_type": "markdown",
   "id": "dd62da63",
   "metadata": {},
   "source": [
    "Visualization Before Training"
   ]
  },
  {
   "cell_type": "code",
   "execution_count": 44,
   "id": "3ec63237",
   "metadata": {},
   "outputs": [
    {
     "data": {
      "image/png": "[encoded data removed]",
      "text/plain": [
       "<Figure size 640x480 with 1 Axes>"
      ]
     },
     "metadata": {},
     "output_type": "display_data"
    }
   ],
   "source": [
    "# Display a simple plot showing the historical close price (before training)\n",
    "plt.Figure(figsize=(14,3))\n",
    "df[\"Close\"].plot(title=f\"Historical {TICKER} Close Price (Data Before Training)\",color=\"green\")\n",
    "plt.xlabel(\"Date\")\n",
    "plt.ylabel(\"Closing Price (USD)\")\n",
    "plt.tight_layout()\n",
    "plt.show()"
   ]
  },
  {
   "cell_type": "markdown",
   "id": "6d10439d",
   "metadata": {},
   "source": [
    "Feature Engineering"
   ]
  },
  {
   "cell_type": "code",
   "execution_count": 20,
   "id": "48ef8e47",
   "metadata": {},
   "outputs": [],
   "source": [
    "# Create features based on the current day's trading data\n",
    "features = df[[\"Open\",\"High\",\"Low\",\"Close\",\"Volume\"]].copy()"
   ]
  },
  {
   "cell_type": "code",
   "execution_count": 21,
   "id": "5b1ec784",
   "metadata": {},
   "outputs": [],
   "source": [
    "# 1. Target Variable Creation: We want to predict the \"Close\" price for the next day\n",
    "# We shift the \"Close\" column upward to -PREDICTION_DAYS (1 day) to align the future value\n",
    "# (Target: y) with current day's features (Input: X)\n",
    "features[\"Target\"] = features[\"Close\"].shift(-PREDICTION_DAYS)"
   ]
  },
  {
   "cell_type": "code",
   "execution_count": 23,
   "id": "dc01def0",
   "metadata": {},
   "outputs": [],
   "source": [
    "# 2. Feature Engineering: Adding simple moving averages (SMAs) as technical indicators\n",
    "# SMAs smooth out price data to identify trend direction\n",
    "features[\"SMA_5\"] = features[\"Close\"].rolling(window=5).mean()\n",
    "features[\"SMA_20\"] = features[\"Close\"].rolling(window=20).mean()"
   ]
  },
  {
   "cell_type": "code",
   "execution_count": 24,
   "id": "f312bc94",
   "metadata": {},
   "outputs": [],
   "source": [
    "# Drop rows with NaN values created by shiftig and rolling window operators\n",
    "# These NaNs are from the last row (Target) and the first 20 rows (SMA_20)\n",
    "features.dropna(inplace=True)"
   ]
  },
  {
   "cell_type": "code",
   "execution_count": 25,
   "id": "032101fb",
   "metadata": {},
   "outputs": [
    {
     "name": "stderr",
     "output_type": "stream",
     "text": [
      "C:\\Users\\Dell\\AppData\\Local\\Temp\\ipykernel_12104\\2419883420.py:2: PerformanceWarning: dropping on a non-lexsorted multi-index without a level parameter may impact performance.\n",
      "  X =  features.drop(\"Target\",axis=1) # All columns except \"Target\" are features\n"
     ]
    }
   ],
   "source": [
    "# Define the feature matrix (X) and the targte Variable (y)\n",
    "X =  features.drop(\"Target\",axis=1) # All columns except \"Target\" are features\n",
    "y = features[\"Target\"]"
   ]
  },
  {
   "cell_type": "code",
   "execution_count": 26,
   "id": "276cec32",
   "metadata": {},
   "outputs": [],
   "source": [
    "# Store the dates corresponding to the data points for visualization\n",
    "dates = features.index.values"
   ]
  },
  {
   "cell_type": "markdown",
   "id": "24b123a2",
   "metadata": {},
   "source": [
    "Data Splitting"
   ]
  },
  {
   "cell_type": "code",
   "execution_count": 27,
   "id": "242b1449",
   "metadata": {},
   "outputs": [
    {
     "name": "stdout",
     "output_type": "stream",
     "text": [
      "Training set size: 3162 samples\n",
      "Testing set size: 791 samples\n"
     ]
    }
   ],
   "source": [
    "# Split the data into training (80%) and testing (20%) sets\n",
    "# We don't shuffle time series data as the order is cruical\n",
    "# We use a fixed split point based on the index (time)\n",
    "split_point = int(0.8  * len(X))\n",
    "X_train,X_test = X[:split_point],X[split_point:]\n",
    "y_train,y_test = y[:split_point],y[split_point:]\n",
    "dates_test = dates[split_point:] # Keep track of the test dates for plotting\n",
    "\n",
    "print(f\"Training set size: {len(X_train)} samples\")\n",
    "print(f\"Testing set size: {len(X_test)} samples\")"
   ]
  },
  {
   "cell_type": "markdown",
   "id": "33399ce6",
   "metadata": {},
   "source": [
    "Data Scaling"
   ]
  },
  {
   "cell_type": "code",
   "execution_count": 29,
   "id": "0ad55685",
   "metadata": {},
   "outputs": [],
   "source": [
    "# Stanadardize features by removing the mean and scaling to unit variance\n",
    "# This is crucial for distance-based algorithms like SVR and Linear Models with regularization\n",
    "scaler = StandardScaler()\n",
    "X_train_scaled = scaler.fit_transform(X_train)\n",
    "X_test_scaled = scaler.fit_transform(X_test) # Use the fitted scaler from the training set"
   ]
  },
  {
   "cell_type": "code",
   "execution_count": 30,
   "id": "0a40438a",
   "metadata": {},
   "outputs": [],
   "source": [
    "# Convert back to DataFrame for better visualization/debugging (optional, but good practice)\n",
    "X_train_scaled = pd.DataFrame(X_train_scaled,columns=X_train.columns)\n",
    "X_test_scaled = pd.DataFrame(X_test_scaled,columns=X_test.columns)"
   ]
  },
  {
   "cell_type": "markdown",
   "id": "26b09473",
   "metadata": {},
   "source": [
    "Hyperparameter Grids"
   ]
  },
  {
   "cell_type": "code",
   "execution_count": 37,
   "id": "aeb30f77",
   "metadata": {},
   "outputs": [],
   "source": [
    "# 1. Linear Models (Ridge/Lasso/ElasticNet): Use 'alpha' (regularization strength)\n",
    "ridge_params = {'alpha': [0.1, 1.0, 10.0, 100.0]}\n",
    "lasso_params = {'alpha': [0.001, 0.01, 0.1, 1.0]}\n",
    "\n",
    "# 2. Decision Tree: Use 'max_depth' and 'min_samples_split'\n",
    "dt_params = {\n",
    "    'max_depth': np.arange(3, 15), # Max depth of the tree\n",
    "    'min_samples_split': np.arange(2, 10) # Minimum number of samples required to split an internal node\n",
    "}\n",
    "\n",
    "# 3. Random Forest: Use 'n_estimators' (number of trees) and 'max_depth'\n",
    "rf_params = {\n",
    "    'n_estimators': np.arange(50, 200, 50), # Number of trees in the forest\n",
    "    'max_depth': np.arange(5, 20),\n",
    "    'min_samples_leaf': [1, 2, 4]\n",
    "}\n",
    "\n",
    "# 4. SVR: Use 'C' (regularization parameter) and 'gamma' (kernel coefficient)\n",
    "svr_params = {\n",
    "    'C': [0.1, 1, 10, 100],\n",
    "    'gamma': ['scale', 'auto'], # How much influence a single training example has\n",
    "    'kernel': ['rbf']\n",
    "}"
   ]
  },
  {
   "cell_type": "markdown",
   "id": "2de1dc2e",
   "metadata": {},
   "source": [
    "Model Definitions"
   ]
  },
  {
   "cell_type": "code",
   "execution_count": 38,
   "id": "886bd0b7",
   "metadata": {},
   "outputs": [],
   "source": [
    "models_to_run = [\n",
    "    (\"Linear Regression (Baseline)\",LinearRegression(),{}), # No tuning for simple Linear Regression\n",
    "    (\"Ridge Regression\",Ridge(),ridge_params),\n",
    "    (\"Lasso Regression\",Lasso(max_iter=5000),lasso_params),\n",
    "    (\"Decision Tree\",DecisionTreeRegressor(random_state=42),dt_params),\n",
    "    (\"Random Forest\",RandomForestRegressor(random_state=42),rf_params),\n",
    "    (\"SVR\",SVR(),svr_params)\n",
    "]"
   ]
  },
  {
   "cell_type": "code",
   "execution_count": 39,
   "id": "e9b9b992",
   "metadata": {},
   "outputs": [],
   "source": [
    "# Dictionary to store results for comparison\n",
    "results = {}\n",
    "best_model = None\n",
    "best_score = -np.inf # Initialize with negative infinity for R-squared metric (higher is better)\n",
    "\n",
    "# Define which models require feature scaling (all linear and distance-based models)\n",
    "SCALED_MODELS = [\"Linear Regression (Baseline)\",\"Ridge Regression\",\"Lasso Regression\",\"SVR\"]"
   ]
  },
  {
   "cell_type": "markdown",
   "id": "ca2be0f5",
   "metadata": {},
   "source": [
    "Model Training and Hyperparameter Tuning"
   ]
  },
  {
   "cell_type": "code",
   "execution_count": 40,
   "id": "81828ae0",
   "metadata": {},
   "outputs": [
    {
     "name": "stdout",
     "output_type": "stream",
     "text": [
      "\n",
      "Training and Tuning: Linear Regression (Baseline)...\n",
      "   Test R² Score: -20.9560\n",
      "   Test MSE: 764.8624\n",
      "\n",
      "Training and Tuning: Ridge Regression...\n"
     ]
    },
    {
     "name": "stderr",
     "output_type": "stream",
     "text": [
      "c:\\Users\\Dell\\AppData\\Local\\Programs\\Python\\Python313\\Lib\\site-packages\\sklearn\\model_selection\\_search.py:317: UserWarning: The total space of parameters 4 is smaller than n_iter=10. Running 4 iterations. For exhaustive searches, use GridSearchCV.\n",
      "  warnings.warn(\n"
     ]
    },
    {
     "name": "stdout",
     "output_type": "stream",
     "text": [
      "   Best Params: {'alpha': 0.1}\n",
      "   Test R² Score: -20.9558\n",
      "   Test MSE: 764.8556\n",
      "\n",
      "Training and Tuning: Lasso Regression...\n"
     ]
    },
    {
     "name": "stderr",
     "output_type": "stream",
     "text": [
      "c:\\Users\\Dell\\AppData\\Local\\Programs\\Python\\Python313\\Lib\\site-packages\\sklearn\\model_selection\\_search.py:317: UserWarning: The total space of parameters 4 is smaller than n_iter=10. Running 4 iterations. For exhaustive searches, use GridSearchCV.\n",
      "  warnings.warn(\n"
     ]
    },
    {
     "name": "stdout",
     "output_type": "stream",
     "text": [
      "   Best Params: {'alpha': 0.001}\n",
      "   Test R² Score: -20.9560\n",
      "   Test MSE: 764.8638\n",
      "\n",
      "Training and Tuning: Decision Tree...\n",
      "   Best Params: {'min_samples_split': np.int64(3), 'max_depth': np.int64(7)}\n",
      "   Test R² Score: -0.8033\n",
      "   Test MSE: 62.8206\n",
      "\n",
      "Training and Tuning: Random Forest...\n",
      "   Best Params: {'n_estimators': np.int64(150), 'min_samples_leaf': 1, 'max_depth': np.int64(17)}\n",
      "   Test R² Score: -0.4106\n",
      "   Test MSE: 49.1398\n",
      "\n",
      "Training and Tuning: SVR...\n",
      "   Best Params: {'kernel': 'rbf', 'gamma': 'auto', 'C': 100}\n",
      "   Test R² Score: -20.8705\n",
      "   Test MSE: 761.8829\n",
      "\n",
      "--- Final Model Comparison ---\n",
      "                              R2 Score       MSE  \\\n",
      "Model                                              \n",
      "Random Forest                  -0.4106   49.1398   \n",
      "Decision Tree                  -0.8033   62.8206   \n",
      "SVR                           -20.8705  761.8829   \n",
      "Ridge Regression              -20.9558  764.8556   \n",
      "Linear Regression (Baseline)  -20.9560  764.8624   \n",
      "Lasso Regression              -20.9560  764.8638   \n",
      "\n",
      "                                                                    Best Params  \n",
      "Model                                                                            \n",
      "Random Forest                 {'n_estimators': 150, 'min_samples_leaf': 1, '...  \n",
      "Decision Tree                          {'min_samples_split': 3, 'max_depth': 7}  \n",
      "SVR                                {'kernel': 'rbf', 'gamma': 'auto', 'C': 100}  \n",
      "Ridge Regression                                                 {'alpha': 0.1}  \n",
      "Linear Regression (Baseline)                                                N/A  \n",
      "Lasso Regression                                               {'alpha': 0.001}  \n",
      "\n",
      "*** The best performing model based on R² score is: Random Forest ***\n"
     ]
    }
   ],
   "source": [
    "for name, model, params in models_to_run:\n",
    "    print(f\"\\nTraining and Tuning: {name}...\")\n",
    "\n",
    "    # Determine the correct training and testing data based on whether the model requires scaling\n",
    "    requires_scaling = name in SCALED_MODELS\n",
    "\n",
    "    if requires_scaling:\n",
    "        X_train_data = X_train_scaled\n",
    "        X_test_pred = X_test_scaled\n",
    "    else:\n",
    "        # Tree-based models (DT, RF) do not benefit from scaling and can use the original data\n",
    "        X_train_data = X_train\n",
    "        X_test_pred = X_test\n",
    "\n",
    "    # If parameters exist, use RandomizedSearchCV for tuning\n",
    "    if params:\n",
    "        # RandomizedSearchCV samples a fixed number of parameter settings from the search space.\n",
    "        search = RandomizedSearchCV(\n",
    "            estimator=model,\n",
    "            param_distributions=params,\n",
    "            n_iter=10 if name != \"SVR\" else 5, # Run 10 iterations (fewer for slow SVR)\n",
    "            scoring='r2',\n",
    "            cv=3,\n",
    "            verbose=0,\n",
    "            random_state=42,\n",
    "            n_jobs=-1 # Use all available CPU cores\n",
    "        )\n",
    "        \n",
    "        # Fit the search object to the determined training data\n",
    "        search.fit(X_train_data, y_train)\n",
    "\n",
    "        # The best estimator is the model trained with the best hyperparameters\n",
    "        final_model = search.best_estimator_\n",
    "        best_params = search.best_params_\n",
    "        print(f\"   Best Params: {best_params}\")\n",
    "    else:\n",
    "        # For models without tuning (like Linear Regression Baseline), just fit the model directly\n",
    "        final_model = model\n",
    "        final_model.fit(X_train_data, y_train)\n",
    "        best_params = \"N/A\"\n",
    "\n",
    "    # Make predictions on the test set using the correctly prepared test data\n",
    "    y_pred = final_model.predict(X_test_pred)\n",
    "\n",
    "    # Calculate evaluation metrics\n",
    "    mse = mean_squared_error(y_test, y_pred)\n",
    "    r2 = r2_score(y_test, y_pred)\n",
    "\n",
    "    # Store results\n",
    "    results[name] = {'R2 Score': r2, 'MSE': mse, 'Model': final_model, 'Params': best_params, 'Predictions': y_pred}\n",
    "\n",
    "    print(f\"   Test R² Score: {r2:.4f}\")\n",
    "    print(f\"   Test MSE: {mse:.4f}\")\n",
    "\n",
    "    # Check for the best model based on R-squared (coefficient of determination)\n",
    "    if r2 > best_score:\n",
    "        best_score = r2\n",
    "        best_model_name = name\n",
    "        best_model = final_model\n",
    "\n",
    "# --- Final Comparison and Best Model Selection ---\n",
    "print(\"\\n--- Final Model Comparison ---\")\n",
    "comparison_df = pd.DataFrame({\n",
    "    'Model': list(results.keys()),\n",
    "    'R2 Score': [r['R2 Score'] for r in results.values()],\n",
    "    'MSE': [r['MSE'] for r in results.values()],\n",
    "    'Best Params': [r['Params'] for r in results.values()]\n",
    "}).sort_values(by='R2 Score', ascending=False).set_index('Model')\n",
    "print(comparison_df.round(4))\n",
    "\n",
    "print(f\"\\n*** The best performing model based on R² score is: {best_model_name} ***\")\n",
    "best_results = results[best_model_name]\n"
   ]
  },
  {
   "cell_type": "markdown",
   "id": "50f32f46",
   "metadata": {},
   "source": [
    "Visualiztion: Actual vs Predicted (Best Model)"
   ]
  },
  {
   "cell_type": "code",
   "execution_count": 46,
   "id": "87f31d39",
   "metadata": {},
   "outputs": [
    {
     "name": "stdout",
     "output_type": "stream",
     "text": [
      "Generating Visualization..........\n"
     ]
    },
    {
     "data": {
      "image/png": "[encoded data removed]",
      "text/plain": [
       "<Figure size 640x480 with 1 Axes>"
      ]
     },
     "metadata": {},
     "output_type": "display_data"
    }
   ],
   "source": [
    "print(\"Generating Visualization..........\")\n",
    "\n",
    "plt.Figure(figsize=(14,6))\n",
    "\n",
    "# Plot the actual (true) prices from the test set\n",
    "plt.plot(dates_test,y_test.values,label=\"Actual Price\",color=\"darkblue\",linewidth=2)\n",
    "\n",
    "# Plot the predicted prices from the best model\n",
    "plt.plot(dates_test,best_results[\"Predictions\"],label=f\"Predicted Price ({best_model_name})\",color=\"red\",linestyle=\"--\",alpha=0.7)\n",
    "plt.title(f\"{TICKER} Stock Price Prediction - Actual vs Predicted ({best_model_name})\")\n",
    "plt.xlabel(\"Date\")\n",
    "plt.ylabel(\"Closing Price (USD)\")\n",
    "plt.legend()\n",
    "plt.xticks(rotation=45)\n",
    "plt.tight_layout()\n",
    "plt.show()"
   ]
  },
  {
   "cell_type": "markdown",
   "id": "b06d360d",
   "metadata": {},
   "source": [
    "New Prediction"
   ]
  },
  {
   "cell_type": "code",
   "execution_count": 47,
   "id": "47af0ba4",
   "metadata": {},
   "outputs": [
    {
     "name": "stdout",
     "output_type": "stream",
     "text": [
      "----- New Prediction Input (Next Trading Day)\n",
      "Latest input features used for prediction (today's data):\n",
      "Price    Open       High        Low      Close      Volume      SMA_5  SMA_20\n",
      "Ticker     KO         KO         KO         KO          KO                   \n",
      "3971    67.18  68.110001  67.160004  67.589996  15707200.0  67.204001  66.537\n",
      "Predicted KO Closing Price fo the Next Trading Day:\n",
      "$56.56 (Using Random Forest)\n"
     ]
    },
    {
     "name": "stderr",
     "output_type": "stream",
     "text": [
      "C:\\Users\\Dell\\AppData\\Local\\Temp\\ipykernel_12104\\4131575431.py:7: PerformanceWarning: dropping on a non-lexsorted multi-index without a level parameter may impact performance.\n",
      "  last_row = latest_data.iloc[-1].drop(\"Target\")\n"
     ]
    },
    {
     "data": {
      "text/plain": [
       "np.float64(56.55947052001953)"
      ]
     },
     "execution_count": 47,
     "metadata": {},
     "output_type": "execute_result"
    }
   ],
   "source": [
    "def predict_next_day_price(model,latest_data):\n",
    "    print(\"----- New Prediction Input (Next Trading Day)\")\n",
    "\n",
    "\n",
    "    # The latest data needs to be structured exactly like X_train (Open, High, Low, Close, Volume, SMA_5, SMA_20)\n",
    "    # The last row of our preprocessed features DataFrame contains the data needed for the prediction.\n",
    "    last_row = latest_data.iloc[-1].drop(\"Target\")\n",
    "\n",
    "    # Since the Random Forest was chosen as the best model, we do not need to scale it\n",
    "    # If the best model was LinearRegression/Lasso/Ridge/SVR,scaling would be mandatory\n",
    "\n",
    "    # 1. Reshape the data for prediction (single sample)\n",
    "    X_new = last_row.values.reshape(1,-1)\n",
    "\n",
    "    # 2. Check if scaling is needed for the best model\n",
    "    # Note: SCALED_MODELS is a global constant defined in the main script now\n",
    "    is_scaled = best_model_name in SCALED_MODELS\n",
    "\n",
    "\n",
    "    if is_scaled:\n",
    "        # Only scale the features if the best model requires scaled input (i-e., not a tree-based model)\n",
    "        X_new_scaled = scaler.transform(X_new)\n",
    "        prediction = model.predict(X_new_scaled)\n",
    "    else:\n",
    "        prediction = model.predict(X_new)\n",
    "\n",
    "    print(f\"Latest input features used for prediction (today's data):\")\n",
    "    print(last_row.to_frame().T)\n",
    "\n",
    "    print(f\"Predicted {TICKER} Closing Price fo the Next Trading Day:\")\n",
    "    print(f\"${prediction[0]:.2f} (Using {best_model_name})\")\n",
    "\n",
    "\n",
    "    return prediction[0]\n",
    "\n",
    "\n",
    "\n",
    "\n",
    "# Execute the prediction function using the best model and the last row of the original features\n",
    "\n",
    "predict_next_day_price(best_model,features)"
   ]
  }
 ],
 "metadata": {
  "kernelspec": {
   "display_name": "Python 3",
   "language": "python",
   "name": "python3"
  },
  "language_info": {
   "codemirror_mode": {
    "name": "ipython",
    "version": 3
   },
   "file_extension": ".py",
   "mimetype": "text/x-python",
   "name": "python",
   "nbconvert_exporter": "python",
   "pygments_lexer": "ipython3",
   "version": "3.13.3"
  }
 },
 "nbformat": 4,
 "nbformat_minor": 5
}
