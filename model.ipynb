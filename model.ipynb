{
 "cells": [
  {
   "cell_type": "markdown",
   "id": "3202f005",
   "metadata": {},
   "source": [
    "Import the neccessary libraries"
   ]
  },
  {
   "cell_type": "code",
   "execution_count": 2,
   "id": "e4cdc230",
   "metadata": {},
   "outputs": [],
   "source": [
    "import numpy as np\n",
    "import pandas as pd\n",
    "import yfinance as yf\n",
    "from sklearn.linear_model import LinearRegression,Ridge,Lasso\n",
    "from sklearn.tree import DecisionTreeRegressor\n",
    "from sklearn.ensemble import RandomForestRegressor\n",
    "from sklearn.svm import SVR\n",
    "from sklearn.model_selection import train_test_split,RandomizedSearchCV\n",
    "from sklearn.preprocessing import StandardScaler\n",
    "from sklearn.metrics import mean_squared_error,r2_score\n",
    "import matplotlib.pyplot as plt"
   ]
  },
  {
   "cell_type": "markdown",
   "id": "fa488f87",
   "metadata": {},
   "source": [
    "Set plotting style for better visualization"
   ]
  },
  {
   "cell_type": "code",
   "execution_count": 3,
   "id": "7074b8c4",
   "metadata": {},
   "outputs": [],
   "source": [
    "plt.style.use(\"seaborn-v0_8-whitegrid\")"
   ]
  },
  {
   "cell_type": "markdown",
   "id": "524253ad",
   "metadata": {},
   "source": [
    "Configuration and Constants"
   ]
  },
  {
   "cell_type": "code",
   "execution_count": 4,
   "id": "fd8b5247",
   "metadata": {},
   "outputs": [],
   "source": [
    "TICKER = \"KO\" # Coca-cola Company stock ticker\n",
    "START_DATE = \"2010-01-01\" # Starting date for data acquisition\n",
    "END_DATE = pd.to_datetime(\"today\").strftime(\"%Y-%m-%d\") # Today's date as end date\n",
    "PREDICTION_DAYS = 1 # We aim to predict the stock price 1 day into the future"
   ]
  },
  {
   "cell_type": "markdown",
   "id": "3c2372fe",
   "metadata": {},
   "source": [
    "Data Loading and Acquistion"
   ]
  },
  {
   "cell_type": "code",
   "execution_count": 5,
   "id": "f94c150f",
   "metadata": {},
   "outputs": [
    {
     "name": "stdout",
     "output_type": "stream",
     "text": [
      "Fetching KO stock data from 2010-01-01 to 2025-10-17......\n"
     ]
    },
    {
     "name": "stderr",
     "output_type": "stream",
     "text": [
      "C:\\Users\\Dell\\AppData\\Local\\Temp\\ipykernel_6848\\987672903.py:5: FutureWarning: YF.download() has changed argument auto_adjust default to True\n",
      "  df = yf.download(TICKER, start=START_DATE, end=END_DATE)\n",
      "Failed to get ticker 'KO' reason: Failed to perform, curl: (6) Could not resolve host: query2.finance.yahoo.com. See https://curl.se/libcurl/c/libcurl-errors.html first for more details.\n",
      "Failed to get ticker 'KO' reason: Failed to perform, curl: (6) Could not resolve host: query2.finance.yahoo.com. See https://curl.se/libcurl/c/libcurl-errors.html first for more details.\n",
      "[*********************100%***********************]  1 of 1 completed"
     ]
    },
    {
     "name": "stdout",
     "output_type": "stream",
     "text": [
      "Data loaded successfully!\n"
     ]
    },
    {
     "name": "stderr",
     "output_type": "stream",
     "text": [
      "\n"
     ]
    }
   ],
   "source": [
    "print(f\"Fetching {TICKER} stock data from {START_DATE} to {END_DATE}......\")\n",
    "\n",
    "# Use yfinance to download historical stock data\n",
    "try:\n",
    "    df = yf.download(TICKER, start=START_DATE, end=END_DATE)\n",
    "    print(\"Data loaded successfully!\")\n",
    "except Exception as e:\n",
    "    print(f\"Error fetching data: {e}\")\n",
    "    exit()"
   ]
  },
  {
   "cell_type": "code",
   "execution_count": 6,
   "id": "f98132c1",
   "metadata": {},
   "outputs": [],
   "source": [
    "# Check if data was successfully loaded and is not empty\n",
    "if df.empty:\n",
    "    print(f\"No data retrieved for {TICKER}. Exiting.\")\n",
    "    exit()"
   ]
  },
  {
   "cell_type": "code",
   "execution_count": 9,
   "id": "b36ae45f",
   "metadata": {},
   "outputs": [
    {
     "name": "stdout",
     "output_type": "stream",
     "text": [
      "----- First 5 rows of the dataset -----\n"
     ]
    },
    {
     "data": {
      "text/html": [
       "<div>\n",
       "<style scoped>\n",
       "    .dataframe tbody tr th:only-of-type {\n",
       "        vertical-align: middle;\n",
       "    }\n",
       "\n",
       "    .dataframe tbody tr th {\n",
       "        vertical-align: top;\n",
       "    }\n",
       "\n",
       "    .dataframe thead tr th {\n",
       "        text-align: left;\n",
       "    }\n",
       "\n",
       "    .dataframe thead tr:last-of-type th {\n",
       "        text-align: right;\n",
       "    }\n",
       "</style>\n",
       "<table border=\"1\" class=\"dataframe\">\n",
       "  <thead>\n",
       "    <tr>\n",
       "      <th>Price</th>\n",
       "      <th>Close</th>\n",
       "      <th>High</th>\n",
       "      <th>Low</th>\n",
       "      <th>Open</th>\n",
       "      <th>Volume</th>\n",
       "    </tr>\n",
       "    <tr>\n",
       "      <th>Ticker</th>\n",
       "      <th>KO</th>\n",
       "      <th>KO</th>\n",
       "      <th>KO</th>\n",
       "      <th>KO</th>\n",
       "      <th>KO</th>\n",
       "    </tr>\n",
       "    <tr>\n",
       "      <th>Date</th>\n",
       "      <th></th>\n",
       "      <th></th>\n",
       "      <th></th>\n",
       "      <th></th>\n",
       "      <th></th>\n",
       "    </tr>\n",
       "  </thead>\n",
       "  <tbody>\n",
       "    <tr>\n",
       "      <th>2010-01-04</th>\n",
       "      <td>17.557861</td>\n",
       "      <td>17.613268</td>\n",
       "      <td>17.514767</td>\n",
       "      <td>17.594799</td>\n",
       "      <td>13870400</td>\n",
       "    </tr>\n",
       "    <tr>\n",
       "      <th>2010-01-05</th>\n",
       "      <td>17.345463</td>\n",
       "      <td>17.542466</td>\n",
       "      <td>17.280822</td>\n",
       "      <td>17.499371</td>\n",
       "      <td>23172400</td>\n",
       "    </tr>\n",
       "    <tr>\n",
       "      <th>2010-01-06</th>\n",
       "      <td>17.339312</td>\n",
       "      <td>17.373170</td>\n",
       "      <td>17.231575</td>\n",
       "      <td>17.345467</td>\n",
       "      <td>19264600</td>\n",
       "    </tr>\n",
       "    <tr>\n",
       "      <th>2010-01-07</th>\n",
       "      <td>17.296217</td>\n",
       "      <td>17.351624</td>\n",
       "      <td>17.160778</td>\n",
       "      <td>17.339312</td>\n",
       "      <td>13234600</td>\n",
       "    </tr>\n",
       "    <tr>\n",
       "      <th>2010-01-08</th>\n",
       "      <td>16.976086</td>\n",
       "      <td>17.126915</td>\n",
       "      <td>16.852959</td>\n",
       "      <td>17.071508</td>\n",
       "      <td>28712400</td>\n",
       "    </tr>\n",
       "  </tbody>\n",
       "</table>\n",
       "</div>"
      ],
      "text/plain": [
       "Price           Close       High        Low       Open    Volume\n",
       "Ticker             KO         KO         KO         KO        KO\n",
       "Date                                                            \n",
       "2010-01-04  17.557861  17.613268  17.514767  17.594799  13870400\n",
       "2010-01-05  17.345463  17.542466  17.280822  17.499371  23172400\n",
       "2010-01-06  17.339312  17.373170  17.231575  17.345467  19264600\n",
       "2010-01-07  17.296217  17.351624  17.160778  17.339312  13234600\n",
       "2010-01-08  16.976086  17.126915  16.852959  17.071508  28712400"
      ]
     },
     "execution_count": 9,
     "metadata": {},
     "output_type": "execute_result"
    }
   ],
   "source": [
    "# Display the first few rows of the raw data\n",
    "print(\"----- First 5 rows of the dataset -----\")\n",
    "df.head()"
   ]
  },
  {
   "cell_type": "code",
   "execution_count": 10,
   "id": "2cf29b88",
   "metadata": {},
   "outputs": [
    {
     "name": "stdout",
     "output_type": "stream",
     "text": [
      "----- Last 5 rows of the dataset -----\n"
     ]
    },
    {
     "data": {
      "text/html": [
       "<div>\n",
       "<style scoped>\n",
       "    .dataframe tbody tr th:only-of-type {\n",
       "        vertical-align: middle;\n",
       "    }\n",
       "\n",
       "    .dataframe tbody tr th {\n",
       "        vertical-align: top;\n",
       "    }\n",
       "\n",
       "    .dataframe thead tr th {\n",
       "        text-align: left;\n",
       "    }\n",
       "\n",
       "    .dataframe thead tr:last-of-type th {\n",
       "        text-align: right;\n",
       "    }\n",
       "</style>\n",
       "<table border=\"1\" class=\"dataframe\">\n",
       "  <thead>\n",
       "    <tr>\n",
       "      <th>Price</th>\n",
       "      <th>Close</th>\n",
       "      <th>High</th>\n",
       "      <th>Low</th>\n",
       "      <th>Open</th>\n",
       "      <th>Volume</th>\n",
       "    </tr>\n",
       "    <tr>\n",
       "      <th>Ticker</th>\n",
       "      <th>KO</th>\n",
       "      <th>KO</th>\n",
       "      <th>KO</th>\n",
       "      <th>KO</th>\n",
       "      <th>KO</th>\n",
       "    </tr>\n",
       "    <tr>\n",
       "      <th>Date</th>\n",
       "      <th></th>\n",
       "      <th></th>\n",
       "      <th></th>\n",
       "      <th></th>\n",
       "      <th></th>\n",
       "    </tr>\n",
       "  </thead>\n",
       "  <tbody>\n",
       "    <tr>\n",
       "      <th>2025-10-10</th>\n",
       "      <td>67.040001</td>\n",
       "      <td>67.400002</td>\n",
       "      <td>66.379997</td>\n",
       "      <td>66.519997</td>\n",
       "      <td>17991700</td>\n",
       "    </tr>\n",
       "    <tr>\n",
       "      <th>2025-10-13</th>\n",
       "      <td>66.800003</td>\n",
       "      <td>66.800003</td>\n",
       "      <td>66.000000</td>\n",
       "      <td>66.230003</td>\n",
       "      <td>13690000</td>\n",
       "    </tr>\n",
       "    <tr>\n",
       "      <th>2025-10-14</th>\n",
       "      <td>67.510002</td>\n",
       "      <td>67.570000</td>\n",
       "      <td>66.750000</td>\n",
       "      <td>66.870003</td>\n",
       "      <td>14245600</td>\n",
       "    </tr>\n",
       "    <tr>\n",
       "      <th>2025-10-15</th>\n",
       "      <td>67.080002</td>\n",
       "      <td>67.720001</td>\n",
       "      <td>66.919998</td>\n",
       "      <td>67.269997</td>\n",
       "      <td>11193700</td>\n",
       "    </tr>\n",
       "    <tr>\n",
       "      <th>2025-10-16</th>\n",
       "      <td>67.589996</td>\n",
       "      <td>68.110001</td>\n",
       "      <td>67.160004</td>\n",
       "      <td>67.180000</td>\n",
       "      <td>15707200</td>\n",
       "    </tr>\n",
       "  </tbody>\n",
       "</table>\n",
       "</div>"
      ],
      "text/plain": [
       "Price           Close       High        Low       Open    Volume\n",
       "Ticker             KO         KO         KO         KO        KO\n",
       "Date                                                            \n",
       "2025-10-10  67.040001  67.400002  66.379997  66.519997  17991700\n",
       "2025-10-13  66.800003  66.800003  66.000000  66.230003  13690000\n",
       "2025-10-14  67.510002  67.570000  66.750000  66.870003  14245600\n",
       "2025-10-15  67.080002  67.720001  66.919998  67.269997  11193700\n",
       "2025-10-16  67.589996  68.110001  67.160004  67.180000  15707200"
      ]
     },
     "execution_count": 10,
     "metadata": {},
     "output_type": "execute_result"
    }
   ],
   "source": [
    "# Display the last few rows of the raw data\n",
    "print(\"----- Last 5 rows of the dataset -----\")\n",
    "df.tail()"
   ]
  },
  {
   "cell_type": "markdown",
   "id": "e0781c4f",
   "metadata": {},
   "source": [
    "Data Preprocessing"
   ]
  },
  {
   "cell_type": "code",
   "execution_count": 11,
   "id": "e185b7cc",
   "metadata": {},
   "outputs": [
    {
     "name": "stdout",
     "output_type": "stream",
     "text": [
      "Missing Values\n",
      "Price   Ticker\n",
      "Close   KO        0\n",
      "High    KO        0\n",
      "Low     KO        0\n",
      "Open    KO        0\n",
      "Volume  KO        0\n",
      "dtype: int64\n"
     ]
    }
   ],
   "source": [
    "# Check for missing values \n",
    "df_missing = df.isnull().sum()\n",
    "print(\"Missing Values\")\n",
    "print(df_missing)"
   ]
  },
  {
   "cell_type": "code",
   "execution_count": 12,
   "id": "7dffa328",
   "metadata": {},
   "outputs": [
    {
     "name": "stdout",
     "output_type": "stream",
     "text": [
      "Duplicated Rows\n",
      "0\n"
     ]
    }
   ],
   "source": [
    "# Check for duplicated rows\n",
    "df_duplicated = df.duplicated().sum()\n",
    "print(\"Duplicated Rows\")\n",
    "print(df_duplicated)"
   ]
  },
  {
   "cell_type": "code",
   "execution_count": 36,
   "id": "6dfd101f",
   "metadata": {},
   "outputs": [],
   "source": [
    "df.reset_index(inplace=True)"
   ]
  },
  {
   "cell_type": "code",
   "execution_count": 38,
   "id": "1c940660",
   "metadata": {},
   "outputs": [
    {
     "data": {
      "text/html": [
       "<div>\n",
       "<style scoped>\n",
       "    .dataframe tbody tr th:only-of-type {\n",
       "        vertical-align: middle;\n",
       "    }\n",
       "\n",
       "    .dataframe tbody tr th {\n",
       "        vertical-align: top;\n",
       "    }\n",
       "\n",
       "    .dataframe thead tr th {\n",
       "        text-align: left;\n",
       "    }\n",
       "</style>\n",
       "<table border=\"1\" class=\"dataframe\">\n",
       "  <thead>\n",
       "    <tr>\n",
       "      <th>Price</th>\n",
       "      <th>Date</th>\n",
       "      <th>Close</th>\n",
       "      <th>High</th>\n",
       "      <th>Low</th>\n",
       "      <th>Open</th>\n",
       "      <th>Volume</th>\n",
       "    </tr>\n",
       "    <tr>\n",
       "      <th>Ticker</th>\n",
       "      <th></th>\n",
       "      <th>KO</th>\n",
       "      <th>KO</th>\n",
       "      <th>KO</th>\n",
       "      <th>KO</th>\n",
       "      <th>KO</th>\n",
       "    </tr>\n",
       "  </thead>\n",
       "  <tbody>\n",
       "    <tr>\n",
       "      <th>0</th>\n",
       "      <td>2010-01-04</td>\n",
       "      <td>17.557861</td>\n",
       "      <td>17.613268</td>\n",
       "      <td>17.514767</td>\n",
       "      <td>17.594799</td>\n",
       "      <td>13870400</td>\n",
       "    </tr>\n",
       "    <tr>\n",
       "      <th>1</th>\n",
       "      <td>2010-01-05</td>\n",
       "      <td>17.345463</td>\n",
       "      <td>17.542466</td>\n",
       "      <td>17.280822</td>\n",
       "      <td>17.499371</td>\n",
       "      <td>23172400</td>\n",
       "    </tr>\n",
       "    <tr>\n",
       "      <th>2</th>\n",
       "      <td>2010-01-06</td>\n",
       "      <td>17.339312</td>\n",
       "      <td>17.373170</td>\n",
       "      <td>17.231575</td>\n",
       "      <td>17.345467</td>\n",
       "      <td>19264600</td>\n",
       "    </tr>\n",
       "    <tr>\n",
       "      <th>3</th>\n",
       "      <td>2010-01-07</td>\n",
       "      <td>17.296217</td>\n",
       "      <td>17.351624</td>\n",
       "      <td>17.160778</td>\n",
       "      <td>17.339312</td>\n",
       "      <td>13234600</td>\n",
       "    </tr>\n",
       "    <tr>\n",
       "      <th>4</th>\n",
       "      <td>2010-01-08</td>\n",
       "      <td>16.976086</td>\n",
       "      <td>17.126915</td>\n",
       "      <td>16.852959</td>\n",
       "      <td>17.071508</td>\n",
       "      <td>28712400</td>\n",
       "    </tr>\n",
       "  </tbody>\n",
       "</table>\n",
       "</div>"
      ],
      "text/plain": [
       "Price        Date      Close       High        Low       Open    Volume\n",
       "Ticker                    KO         KO         KO         KO        KO\n",
       "0      2010-01-04  17.557861  17.613268  17.514767  17.594799  13870400\n",
       "1      2010-01-05  17.345463  17.542466  17.280822  17.499371  23172400\n",
       "2      2010-01-06  17.339312  17.373170  17.231575  17.345467  19264600\n",
       "3      2010-01-07  17.296217  17.351624  17.160778  17.339312  13234600\n",
       "4      2010-01-08  16.976086  17.126915  16.852959  17.071508  28712400"
      ]
     },
     "execution_count": 38,
     "metadata": {},
     "output_type": "execute_result"
    }
   ],
   "source": [
    "df.head()"
   ]
  },
  {
   "cell_type": "markdown",
   "id": "73e5a5c6",
   "metadata": {},
   "source": [
    "Visualization Before Training"
   ]
  },
  {
   "cell_type": "code",
   "execution_count": 40,
   "id": "cc9d28be",
   "metadata": {},
   "outputs": [
    {
     "data": {
      "image/png": "[encoded data removed]",
      "text/plain": [
       "<Figure size 1400x700 with 1 Axes>"
      ]
     },
     "metadata": {},
     "output_type": "display_data"
    }
   ],
   "source": [
    "# Create a visualization of the raw data to show the overall trend of Coca-cola closing price\n",
    "plt.figure(figsize=(14,7))\n",
    "plt.plot(df[\"Date\"],df[\"Close\"],label=\"Coca-cola Closing Price\",color=\"green\")\n",
    "plt.title(\"Coca-cola Closing Price Over Time\")\n",
    "plt.xlabel(\"Date\")\n",
    "plt.ylabel(\"Closing Price (USD)\")\n",
    "plt.legend()\n",
    "plt.grid(True)\n",
    "plt.show()"
   ]
  },
  {
   "cell_type": "markdown",
   "id": "96cd34e4",
   "metadata": {},
   "source": [
    "Feature Engineering"
   ]
  },
  {
   "cell_type": "code",
   "execution_count": 13,
   "id": "1d651aa7",
   "metadata": {},
   "outputs": [],
   "source": [
    "# Create features based on the current day's trading data\n",
    "features = df[[\"Open\",\"High\",\"Low\",\"Close\",\"Volume\"]].copy()"
   ]
  },
  {
   "cell_type": "code",
   "execution_count": 14,
   "id": "cdb853db",
   "metadata": {},
   "outputs": [],
   "source": [
    "# Target Variable Creation: We want to predict the \"Close\" price for the next day\n",
    "# We shift the \"Close\" column upwards by -PREDICTION_DAYS (1 day) to align the future value\n",
    "# (Target: y) with the current day's features (Input: X)\n",
    "features[\"Target\"] = features[\"Close\"].shift(-PREDICTION_DAYS)"
   ]
  },
  {
   "cell_type": "code",
   "execution_count": 15,
   "id": "1785d467",
   "metadata": {},
   "outputs": [],
   "source": [
    "# Adding Simple moving averages (SMAs) as technical indicators\n",
    "# SMAs smooth out price data to identify trend direction\n",
    "features[\"SMA_5\"] = features[\"Close\"].rolling(window=5).mean()\n",
    "features[\"SMA_20\"] = features[\"Close\"].rolling(window=20).mean()"
   ]
  },
  {
   "cell_type": "code",
   "execution_count": 17,
   "id": "c16d13d2",
   "metadata": {},
   "outputs": [],
   "source": [
    "# Drop rows with NaN values created by shifting and rolling window operations\n",
    "# These NaNs are from the last row (Target) and first 20 rows (SMA_20)\n",
    "features.dropna(inplace=True)"
   ]
  },
  {
   "cell_type": "code",
   "execution_count": 18,
   "id": "b5fce8c3",
   "metadata": {},
   "outputs": [
    {
     "name": "stderr",
     "output_type": "stream",
     "text": [
      "C:\\Users\\Dell\\AppData\\Local\\Temp\\ipykernel_6848\\4176249574.py:2: PerformanceWarning: dropping on a non-lexsorted multi-index without a level parameter may impact performance.\n",
      "  X = features.drop(\"Target\",axis=1) #  All columns except \"Target\" are features\n"
     ]
    }
   ],
   "source": [
    "# Define the feature set (X) and the target variable (y)\n",
    "X = features.drop(\"Target\",axis=1) #  All columns except \"Target\" are features\n",
    "y = features[\"Target\"]"
   ]
  },
  {
   "cell_type": "code",
   "execution_count": 44,
   "id": "c31705e8",
   "metadata": {},
   "outputs": [],
   "source": [
    "# Store the dates corresponding to the data points for visualization\n",
    "dates = features.index.values"
   ]
  },
  {
   "cell_type": "markdown",
   "id": "1db0ccca",
   "metadata": {},
   "source": [
    "Data Splitting"
   ]
  },
  {
   "cell_type": "code",
   "execution_count": 45,
   "id": "0ade59de",
   "metadata": {},
   "outputs": [],
   "source": [
    "# Split the data into training (80%) and testing (20%) sets.\n",
    "# We do not shuffle time series data, as the order is crucial\n",
    "# We use a fixed split point based on the index (time)\n",
    "split_point = int(0.8 * len(X))\n",
    "X_train,X_test =  X[:split_point], X[split_point:]\n",
    "y_train,y_test = y[:split_point], y[split_point:]\n",
    "dates_test = dates[split_point:] # Keep track of test dates for plotting"
   ]
  },
  {
   "cell_type": "code",
   "execution_count": 46,
   "id": "bc693206",
   "metadata": {},
   "outputs": [
    {
     "name": "stdout",
     "output_type": "stream",
     "text": [
      "Training set size: 3161 samples\n",
      "Testing set size: 791 samples\n"
     ]
    }
   ],
   "source": [
    "print(f\"Training set size: {len(X_train)} samples\")\n",
    "print(f\"Testing set size: {len(X_test)} samples\")"
   ]
  },
  {
   "cell_type": "markdown",
   "id": "49215ec7",
   "metadata": {},
   "source": [
    "Data Scaling"
   ]
  },
  {
   "cell_type": "code",
   "execution_count": 47,
   "id": "d1943ece",
   "metadata": {},
   "outputs": [],
   "source": [
    "# Standardize features by removing the mean and scaling to unit variance\n",
    "# This is crucial for distance-based algorithms like SVR and Linear models with regulatization\n",
    "scaler = StandardScaler()\n",
    "X_train_scaled = scaler.fit_transform(X_train)\n",
    "X_test_scaled = scaler.fit_transform(X_test) # Use the fitted scaler from the training set"
   ]
  },
  {
   "cell_type": "code",
   "execution_count": 48,
   "id": "dbf061f9",
   "metadata": {},
   "outputs": [],
   "source": [
    "# Convert back to DataFrame for better visualization/debugging (optional, but good practice)\n",
    "X_train_scaled = pd.DataFrame(X_train_scaled,columns=X_train.columns)\n",
    "X_test_scaled = pd.DataFrame(X_test_scaled,columns=X_test.columns)"
   ]
  },
  {
   "cell_type": "markdown",
   "id": "18a2259d",
   "metadata": {},
   "source": [
    "Model Definitions and Hyperparameter Grids"
   ]
  },
  {
   "cell_type": "code",
   "execution_count": 49,
   "id": "2233a04f",
   "metadata": {},
   "outputs": [],
   "source": [
    "# Define the models and their respective hyperparameter search spaces for tuning\n",
    "\n",
    "# 1. Linear Models (Ridge/Lasso/ElasticNet): Use \"alpha\" (regularization strength)\n",
    "ridge_params = {'alpha': [0.1, 1.0, 10.0, 100.0]}\n",
    "lasso_params = {'alpha': [0.001, 0.01, 0.1, 1.0]}"
   ]
  },
  {
   "cell_type": "code",
   "execution_count": 50,
   "id": "5a5a29af",
   "metadata": {},
   "outputs": [],
   "source": [
    "# 2. Decsion Tree: Use \"max_depth\" and \"min_samples_split\"\n",
    "dt_params = {\n",
    "    \"max_depth\" : np.arange(3,15), # Max depth of the  tree\n",
    "    \"min_smaples_split\" : np.arange(2,10) # Minimum number of samples required to split an internal node\n",
    "}"
   ]
  },
  {
   "cell_type": "code",
   "execution_count": 51,
   "id": "cd9e2ea6",
   "metadata": {},
   "outputs": [],
   "source": [
    "# 3. Random Forest: Use \"n_estimators\" (number of trees) and \"max_depth\"\n",
    "rf_params = {\n",
    "    \"n_estimators\" : np.arange(50,200,50), # Number of tree in the forest\n",
    "    \"max_depth\" : np.arange(5,20),\n",
    "    \"min_samples_leaf\" : [1,2,4]\n",
    "}"
   ]
  },
  {
   "cell_type": "code",
   "execution_count": 52,
   "id": "83f9f97a",
   "metadata": {},
   "outputs": [],
   "source": [
    "# 4. SVR: Use \"C\" (regularization parameter) and \"gamma\" (kernel coefficient)\n",
    "svr_params = {\n",
    "    \"C\" : [0.1,1,10,100],\n",
    "    \"gamma\" : [\"scale\",\"auto\"], #  How much influence a single training example has\n",
    "    \"kernel\" : [\"rbf\"]\n",
    "}"
   ]
  },
  {
   "cell_type": "markdown",
   "id": "af6c0326",
   "metadata": {},
   "source": [
    "Model Training and Comparison"
   ]
  },
  {
   "cell_type": "code",
   "execution_count": 53,
   "id": "752864c8",
   "metadata": {},
   "outputs": [],
   "source": [
    "# Define the list of models and their tuning parameters\n",
    "models_to_run = [\n",
    "    (\"Linear Regression (Baseline)\", LinearRegression(), {}), # No tuning for simple Linear Regression\n",
    "    (\"Ridge Regression\", Ridge(), ridge_params),\n",
    "    (\"Lasso Regression\",Lasso(max_iter=5000),lasso_params), # max_iter increased for convergence\n",
    "    (\"Decision Tree\",DecisionTreeRegressor(random_state=42),dt_params),\n",
    "    (\"Random Forest\",RandomForestRegressor(random_state=42),rf_params),\n",
    "    (\"SVR\",SVR(),svr_params),\n",
    "]"
   ]
  },
  {
   "cell_type": "code",
   "execution_count": 54,
   "id": "72455dd2",
   "metadata": {},
   "outputs": [],
   "source": [
    "# Dictionary to store results for comparison\n",
    "results = {}\n",
    "best_model = None\n",
    "best_score = -np.inf # Initialize with negative infinity for R-squared metric (higher is better)"
   ]
  },
  {
   "cell_type": "code",
   "execution_count": null,
   "id": "1a79d766",
   "metadata": {},
   "outputs": [],
   "source": [
    "print(\"----- Model Training and Hyperparameter Tuning -----\")\n",
    "\n",
    "# ----- Model Comparison and Tuning loop -----\n",
    "for name,model,params in models_to_run:\n",
    "    print(f\"Training and Tuning: {name}.......\")\n",
    "\n",
    "    # If parameters exits, use RandomizedSearchCV for tuning\n",
    "    if params:\n",
    "        # RandomizedSearchCV samples a fixed number of parameter settings from the search space\n",
    "        # cv=3 means 3-fold cross-validation is used\n",
    "        #  scoring=\"r2\" means R-squared  is the metric used to evaluate the model\n",
    "        search = RandomizedSearchCV(\n",
    "            estimator=model,\n",
    "            param_distributions=params,\n",
    "            n_iter=10 if name != \"SVR\" else 5, # Run 10 iterations (fewer for slow SVR)\n",
    "            scoring=\"r2\",\n",
    "            cv=3,\n",
    "            verbose=0,\n",
    "            random_state=42,\n",
    "            n_jobs=-1 # Use all available CPU cores\n",
    "        )\n",
    "\n",
    "        # Fit the search object to the training data. Linear models use scaled data\n",
    "        if name in [\"Linear Regression (Baseline)\",\"Ridge Regression\",\"Lasso Regression\",\"SVR\"]:\n",
    "            search.fit(X_train_scaled,y_train)\n",
    "        else : # Tree-based models are less sensitive to scaling\n",
    "\n",
    "            search.fit(X_train,y_train)\n",
    "\n",
    "            # The best estimator is the model trained with best hyparameters\n",
    "            final_model = search.best_estimator_\n",
    "            best_params = search.best_params_\n",
    "            print(f\"Best Params: {best_params}\")\n",
    "    else:\n",
    "        # For simple Linear Regression, just fit the model directly\n",
    "        final_model = model\n",
    "        final_model.fit(X_train_scaled,y_train)\n",
    "        best_params = \"N/A\"\n",
    "\n",
    "    # Determine which feature set to use for predictions (scaled for linear/SVR, unscaled for others)\n",
    "    if name in [\"Linear Regression (Baseline)\",\"Ridge Regression\",\"Lasso Regression\",\"SVR\"]:\n",
    "        X_test_pred = X_test_scaled\n",
    "    else: \n",
    "        X_test_pred = X_test\n",
    "\n",
    "    # Make predictions on the test set\n",
    "    y_pred = final_model.predict(X_test)\n",
    "\n",
    "    # Calcuate evaluation metrics\n",
    "    mse = mean_squared_error(y_test,y_pred)\n",
    "    r2 = r2_score(y_test,y_pred)\n",
    "\n",
    "    #  Store the results\n",
    "    results[name] = {\n",
    "        \"R2 Score\" : r2,\n",
    "        \"MSE\" : mse,\n",
    "        \"Model\" : final_model,\n",
    "        \"Params\" : best_params,\n",
    "        \"Prediction\" : y_pred\n",
    "    }\n",
    "    \n",
    "    print(f\"Test R² Score: {r2:.4f}\")\n",
    "    print(f\"TEST MSE: {mse:.4f}\")\n",
    "\n",
    "    #  Check for the best model based on R-squared (coefficient of determination)\n",
    "    if r2 > best_score:\n",
    "        best_score = r2\n",
    "        best_model_name = name\n",
    "        best_model = final_model\n",
    "\n",
    "\n",
    "# ----- Final Comparison and Best Model Selection -----"
   ]
  }
 ],
 "metadata": {
  "kernelspec": {
   "display_name": "Python 3",
   "language": "python",
   "name": "python3"
  },
  "language_info": {
   "codemirror_mode": {
    "name": "ipython",
    "version": 3
   },
   "file_extension": ".py",
   "mimetype": "text/x-python",
   "name": "python",
   "nbconvert_exporter": "python",
   "pygments_lexer": "ipython3",
   "version": "3.13.3"
  }
 },
 "nbformat": 4,
 "nbformat_minor": 5
}
